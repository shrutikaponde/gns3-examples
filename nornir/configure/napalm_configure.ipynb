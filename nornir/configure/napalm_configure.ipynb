{
 "metadata": {
  "language_info": {
   "codemirror_mode": {
    "name": "ipython",
    "version": 3
   },
   "file_extension": ".py",
   "mimetype": "text/x-python",
   "name": "python",
   "nbconvert_exporter": "python",
   "pygments_lexer": "ipython3",
   "version": "3.6.7-final"
  },
  "orig_nbformat": 2,
  "kernelspec": {
   "name": "python36764bitnornirvenvvenv4343e64232144f2fba713108ccefc997",
   "display_name": "Python 3.6.7 64-bit ('.nornir-venv': venv)",
   "language": "python"
  }
 },
 "nbformat": 4,
 "nbformat_minor": 2,
 "cells": [
  {
   "source": [
    "# Execute Napalm's configure method\n",
    "\n",
    "napalm_configure - Call napalm’s configure method. It also allows committing/discarding configurations."
   ],
   "cell_type": "markdown",
   "metadata": {}
  },
  {
   "cell_type": "code",
   "execution_count": 78,
   "metadata": {},
   "outputs": [
    {
     "output_type": "stream",
     "name": "stdout",
     "text": [
      "{'routers': Group: routers}\u001b[0m\n",
      "\u001b[0m{'r1': Host: r1}\u001b[0m\n",
      "\u001b[0mline vty 0 4\n",
      "transport input all\u001b[0m\n",
      "\u001b[0m\u001b[1m\u001b[36mload_data***********************************************************************\u001b[0m\n",
      "\u001b[0m\u001b[1m\u001b[34m* r1 ** changed : False ********************************************************\u001b[0m\n",
      "\u001b[0m\u001b[1m\u001b[31mvvvv load_data ** changed : False vvvvvvvvvvvvvvvvvvvvvvvvvvvvvvvvvvvvvvvvvvvvvv ERROR\u001b[0m\n",
      "\u001b[0mSubtask: napalm_configure (failed)\n",
      "\u001b[0m\n",
      "\u001b[0m\u001b[1m\u001b[32m---- template_file ** changed : False ------------------------------------------ INFO\u001b[0m\n",
      "\u001b[0mline vty 0 4\n",
      "transport input all\u001b[0m\n",
      "\u001b[0m\u001b[1m\u001b[31m---- napalm_configure ** changed : False --------------------------------------- ERROR\u001b[0m\n",
      "\u001b[0mTraceback (most recent call last):\n",
      "  File \"/home/shrutika/.nornir-venv/lib/python3.6/site-packages/nornir/core/task.py\", line 98, in start\n",
      "    r = self.task(self, **self.params)\n",
      "  File \"/home/shrutika/.nornir-venv/lib/python3.6/site-packages/nornir_napalm/plugins/tasks/napalm_configure.py\", line 34, in napalm_configure\n",
      "    device.load_merge_candidate(filename=filename, config=configuration)\n",
      "  File \"/home/shrutika/.nornir-venv/lib/python3.6/site-packages/napalm/ios/ios.py\", line 320, in load_merge_candidate\n",
      "    file_system=self.dest_file_system,\n",
      "  File \"/home/shrutika/.nornir-venv/lib/python3.6/site-packages/napalm/ios/ios.py\", line 271, in _load_candidate_wrapper\n",
      "    source_file=tmp_file, dest_file=dest_file, file_system=file_system\n",
      "  File \"/home/shrutika/.nornir-venv/lib/python3.6/site-packages/napalm/ios/ios.py\", line 625, in _scp_file\n",
      "    TransferClass=FileTransfer,\n",
      "  File \"/home/shrutika/.nornir-venv/lib/python3.6/site-packages/napalm/ios/ios.py\", line 677, in _xfer_file\n",
      "    if not transfer.verify_space_available():\n",
      "  File \"/home/shrutika/.nornir-venv/lib/python3.6/site-packages/netmiko/scp_handler.py\", line 199, in verify_space_available\n",
      "    space_avail = self.remote_space_available(search_pattern=search_pattern)\n",
      "  File \"/home/shrutika/.nornir-venv/lib/python3.6/site-packages/netmiko/scp_handler.py\", line 143, in remote_space_available\n",
      "    if \"kbytes\" in match.group(0) or \"Kbytes\" in match.group(0):\n",
      "AttributeError: 'NoneType' object has no attribute 'group'\n",
      "\u001b[0m\n",
      "\u001b[0m\u001b[1m\u001b[31m^^^^ END load_data ^^^^^^^^^^^^^^^^^^^^^^^^^^^^^^^^^^^^^^^^^^^^^^^^^^^^^^^^^^^^^\u001b[0m\n",
      "\u001b[0m"
     ]
    }
   ],
   "source": [
    "from nornir import InitNornir\n",
    "from nornir_napalm.plugins.tasks import napalm_configure\n",
    "from nornir_utils.plugins.functions import print_result\n",
    "from nornir_utils.plugins.tasks.data import load_yaml\n",
    "from nornir_jinja2.plugins.tasks import template_file\n",
    "\n",
    "import pprint\n",
    "\n",
    "nr = InitNornir(config_file=\"config.yaml\")\n",
    "print(nr.inventory.groups)\n",
    "\n",
    "def load_data(task):\n",
    "    r = task.run(task=template_file,template=\"router.j2\",path=\"configuration_files/\")\n",
    "    task.host[\"config\"] = r.result\n",
    "    print(r.result)\n",
    "    task.run(task=napalm_configure, dry_run=True, configuration=task.host[\"config\"])\n",
    "\n",
    "routers = nr.filter(name=\"r1\")\n",
    "print(routers.inventory.hosts)\n",
    "result = routers.run(load_data)\n",
    "# result = nr.run(task=napalm_configure, replace=True )\n",
    "print_result(result)"
   ]
  },
  {
   "cell_type": "code",
   "execution_count": 69,
   "metadata": {},
   "outputs": [
    {
     "output_type": "stream",
     "name": "stdout",
     "text": [
      "\n",
      "    Line       User       Host(s)              Idle       Location\n",
      "* 98 vty 0     cisco      idle                 00:00:00 192.168.122.1\n",
      "\n",
      "  Interface    User               Mode         Idle     Peer Address\n",
      "\u001b[0m\n",
      "\u001b[0m"
     ]
    }
   ],
   "source": [
    "#!/usr/bin/env python\n",
    "from netmiko import ConnectHandler\n",
    "\n",
    "device = {\n",
    "    'device_type': 'cisco_ios',\n",
    "    'host': '192.168.122.146',\n",
    "    'username': 'cisco',\n",
    "    'password': 'cisco'\n",
    "} \n",
    "\n",
    "net_connect = ConnectHandler(**device)\n",
    "output = net_connect.send_command(\"show users\")\n",
    "print(output)  \n",
    "net_connect.disconnect()"
   ]
  },
  {
   "cell_type": "code",
   "execution_count": null,
   "metadata": {},
   "outputs": [],
   "source": []
  }
 ]
}