{
 "metadata": {
  "language_info": {
   "codemirror_mode": {
    "name": "ipython",
    "version": 3
   },
   "file_extension": ".py",
   "mimetype": "text/x-python",
   "name": "python",
   "nbconvert_exporter": "python",
   "pygments_lexer": "ipython3",
   "version": "3.6.7-final"
  },
  "orig_nbformat": 2,
  "kernelspec": {
   "name": "python36764bitnornirvenvvenv4343e64232144f2fba713108ccefc997",
   "display_name": "Python 3.6.7 64-bit ('.nornir-venv': venv)",
   "language": "python"
  }
 },
 "nbformat": 4,
 "nbformat_minor": 2,
 "cells": [
  {
   "source": [
    "# Execute Napalm's ping method\n",
    "\n",
    "napalm_ping - Call napalm’s ping method"
   ],
   "cell_type": "markdown",
   "metadata": {}
  },
  {
   "cell_type": "code",
   "execution_count": 22,
   "metadata": {},
   "outputs": [],
   "source": [
    "from nornir import InitNornir\n",
    "from nornir_napalm.plugins.tasks import napalm_ping\n",
    "from nornir_utils.plugins.functions import print_result\n",
    "\n",
    "import pprint"
   ]
  },
  {
   "cell_type": "code",
   "execution_count": 23,
   "metadata": {
    "tags": []
   },
   "outputs": [
    {
     "output_type": "stream",
     "name": "stdout",
     "text": [
      "\u001b[1m\u001b[32mvvvv r1: napalm_ping ** changed : False vvvvvvvvvvvvvvvvvvvvvvvvvvvvvvvvvvvvvvvv INFO\u001b[0m\n",
      "\u001b[0m{\u001b[0m \u001b[0m'success'\u001b[0m: \u001b[0m{\u001b[0m \u001b[0m'packet_loss'\u001b[0m: \u001b[0m0\u001b[0m,\n",
      "               \u001b[0m'probes_sent'\u001b[0m: \u001b[0m5\u001b[0m,\n",
      "               \u001b[0m'results'\u001b[0m: \u001b[0m[\u001b[0m \u001b[0m\u001b[0m{'ip_address': '192.168.122.146', 'rtt': 0.0}\u001b[0m,\n",
      "                            \u001b[0m{'ip_address': '192.168.122.146', 'rtt': 0.0}\u001b[0m,\n",
      "                            \u001b[0m{'ip_address': '192.168.122.146', 'rtt': 0.0}\u001b[0m,\n",
      "                            \u001b[0m{'ip_address': '192.168.122.146', 'rtt': 0.0}\u001b[0m,\n",
      "                            \u001b[0m{'ip_address': '192.168.122.146', 'rtt': 0.0}\u001b[0m]\u001b[0m,\n",
      "               \u001b[0m'rtt_avg'\u001b[0m: \u001b[0m1.0\u001b[0m,\n",
      "               \u001b[0m'rtt_max'\u001b[0m: \u001b[0m4.0\u001b[0m,\n",
      "               \u001b[0m'rtt_min'\u001b[0m: \u001b[0m1.0\u001b[0m,\n",
      "               \u001b[0m'rtt_stddev'\u001b[0m: \u001b[0m0.0\u001b[0m}\u001b[0m}\u001b[0m\n",
      "\u001b[0m\u001b[1m\u001b[32m^^^^ END napalm_ping ^^^^^^^^^^^^^^^^^^^^^^^^^^^^^^^^^^^^^^^^^^^^^^^^^^^^^^^^^^^\u001b[0m\n",
      "\u001b[0m"
     ]
    }
   ],
   "source": [
    "nr = InitNornir(config_file=\"config.yaml\")\n",
    "result = nr.run(task=napalm_ping,dest='192.168.122.146')\n",
    "print_result(result[\"r1\"])"
   ]
  },
  {
   "cell_type": "code",
   "execution_count": 24,
   "metadata": {},
   "outputs": [],
   "source": [
    "# TODO: Add source and destination example in topology "
   ]
  }
 ]
}