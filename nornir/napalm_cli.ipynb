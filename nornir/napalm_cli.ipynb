{
 "metadata": {
  "language_info": {
   "codemirror_mode": {
    "name": "ipython",
    "version": 3
   },
   "file_extension": ".py",
   "mimetype": "text/x-python",
   "name": "python",
   "nbconvert_exporter": "python",
   "pygments_lexer": "ipython3",
   "version": "3.6.7-final"
  },
  "orig_nbformat": 2,
  "kernelspec": {
   "name": "python36764bitnornirvenvvenv4343e64232144f2fba713108ccefc997",
   "display_name": "Python 3.6.7 64-bit ('.nornir-venv': venv)",
   "language": "python"
  }
 },
 "nbformat": 4,
 "nbformat_minor": 2,
 "cells": [
  {
   "source": [
    "# Execute Napalm's cli methods\n",
    "\n",
    "napalm_cli - Call napalm’s cli method"
   ],
   "cell_type": "markdown",
   "metadata": {}
  },
  {
   "cell_type": "code",
   "execution_count": 24,
   "metadata": {},
   "outputs": [],
   "source": [
    "from nornir import InitNornir\n",
    "from nornir_napalm.plugins.tasks import napalm_cli\n",
    "from nornir_utils.plugins.functions import print_result\n",
    "\n",
    "import pprint"
   ]
  },
  {
   "cell_type": "code",
   "execution_count": 25,
   "metadata": {
    "tags": []
   },
   "outputs": [],
   "source": [
    "nr = InitNornir(config_file=\"config.yaml\")\n",
    "result = nr.run(napalm_cli, commands=[\"show version\", \"show ip int br\", \"show ip route\"])"
   ]
  },
  {
   "cell_type": "code",
   "execution_count": 26,
   "metadata": {
    "tags": []
   },
   "outputs": [
    {
     "output_type": "stream",
     "name": "stdout",
     "text": [
      "\u001b[1m\u001b[32mvvvv r1: napalm_cli ** changed : False vvvvvvvvvvvvvvvvvvvvvvvvvvvvvvvvvvvvvvvvv INFO\u001b[0m\n",
      "\u001b[0m{\u001b[0m \u001b[0m'show ip int br'\u001b[0m: \u001b[0m'Interface                  IP-Address      OK? Method '\u001b[0m\n",
      "                    \u001b[0m'Status                Protocol\\n'\u001b[0m\n",
      "                    \u001b[0m'FastEthernet0/0            192.168.122.146 YES DHCP   '\u001b[0m\n",
      "                    \u001b[0m'up                    up      \\n'\u001b[0m\n",
      "                    \u001b[0m'Serial0/0                  unassigned      YES NVRAM  '\u001b[0m\n",
      "                    \u001b[0m'administratively down down    \\n'\u001b[0m\n",
      "                    \u001b[0m'FastEthernet0/1            unassigned      YES NVRAM  '\u001b[0m\n",
      "                    \u001b[0m'administratively down down    \\n'\u001b[0m\n",
      "                    \u001b[0m'Serial0/1                  unassigned      YES NVRAM  '\u001b[0m\n",
      "                    \u001b[0m'administratively down down    \\n'\u001b[0m\n",
      "                    \u001b[0m'Serial0/2                  unassigned      YES NVRAM  '\u001b[0m\n",
      "                    \u001b[0m'administratively down down    \\n'\u001b[0m\n",
      "                    \u001b[0m'FastEthernet1/0            unassigned      YES NVRAM  '\u001b[0m\n",
      "                    \u001b[0m'administratively down down    \\n'\u001b[0m\n",
      "                    \u001b[0m'FastEthernet2/0            unassigned      YES unset  '\u001b[0m\n",
      "                    \u001b[0m'up                    down    \\n'\u001b[0m\n",
      "                    \u001b[0m'FastEthernet2/1            unassigned      YES unset  '\u001b[0m\n",
      "                    \u001b[0m'up                    down    \\n'\u001b[0m\n",
      "                    \u001b[0m'FastEthernet2/2            unassigned      YES unset  '\u001b[0m\n",
      "                    \u001b[0m'up                    down    \\n'\u001b[0m\n",
      "                    \u001b[0m'FastEthernet2/3            unassigned      YES unset  '\u001b[0m\n",
      "                    \u001b[0m'up                    down    \\n'\u001b[0m\n",
      "                    \u001b[0m'FastEthernet2/4            unassigned      YES unset  '\u001b[0m\n",
      "                    \u001b[0m'up                    down    \\n'\u001b[0m\n",
      "                    \u001b[0m'FastEthernet2/5            unassigned      YES unset  '\u001b[0m\n",
      "                    \u001b[0m'up                    down    \\n'\u001b[0m\n",
      "                    \u001b[0m'FastEthernet2/6            unassigned      YES unset  '\u001b[0m\n",
      "                    \u001b[0m'up                    down    \\n'\u001b[0m\n",
      "                    \u001b[0m'FastEthernet2/7            unassigned      YES unset  '\u001b[0m\n",
      "                    \u001b[0m'up                    down    \\n'\u001b[0m\n",
      "                    \u001b[0m'FastEthernet2/8            unassigned      YES unset  '\u001b[0m\n",
      "                    \u001b[0m'up                    down    \\n'\u001b[0m\n",
      "                    \u001b[0m'FastEthernet2/9            unassigned      YES unset  '\u001b[0m\n",
      "                    \u001b[0m'up                    down    \\n'\u001b[0m\n",
      "                    \u001b[0m'FastEthernet2/10           unassigned      YES unset  '\u001b[0m\n",
      "                    \u001b[0m'up                    down    \\n'\u001b[0m\n",
      "                    \u001b[0m'FastEthernet2/11           unassigned      YES unset  '\u001b[0m\n",
      "                    \u001b[0m'up                    down    \\n'\u001b[0m\n",
      "                    \u001b[0m'FastEthernet2/12           unassigned      YES unset  '\u001b[0m\n",
      "                    \u001b[0m'up                    down    \\n'\u001b[0m\n",
      "                    \u001b[0m'FastEthernet2/13           unassigned      YES unset  '\u001b[0m\n",
      "                    \u001b[0m'up                    down    \\n'\u001b[0m\n",
      "                    \u001b[0m'FastEthernet2/14           unassigned      YES unset  '\u001b[0m\n",
      "                    \u001b[0m'up                    down    \\n'\u001b[0m\n",
      "                    \u001b[0m'FastEthernet2/15           unassigned      YES unset  '\u001b[0m\n",
      "                    \u001b[0m'up                    down    \\n'\u001b[0m\n",
      "                    \u001b[0m'Vlan1                      unassigned      YES NVRAM  '\u001b[0m\n",
      "                    \u001b[0m'up                    down'\u001b[0m,\n",
      "  \u001b[0m'show ip route'\u001b[0m: \u001b[0m'Codes: C - connected, S - static, R - RIP, M - mobile, B - '\u001b[0m\n",
      "                   \u001b[0m'BGP\\n'\u001b[0m\n",
      "                   \u001b[0m'       D - EIGRP, EX - EIGRP external, O - OSPF, IA - OSPF '\u001b[0m\n",
      "                   \u001b[0m'inter area \\n'\u001b[0m\n",
      "                   \u001b[0m'       N1 - OSPF NSSA external type 1, N2 - OSPF NSSA '\u001b[0m\n",
      "                   \u001b[0m'external type 2\\n'\u001b[0m\n",
      "                   \u001b[0m'       E1 - OSPF external type 1, E2 - OSPF external type '\u001b[0m\n",
      "                   \u001b[0m'2\\n'\u001b[0m\n",
      "                   \u001b[0m'       i - IS-IS, su - IS-IS summary, L1 - IS-IS level-1, '\u001b[0m\n",
      "                   \u001b[0m'L2 - IS-IS level-2\\n'\u001b[0m\n",
      "                   \u001b[0m'       ia - IS-IS inter area, * - candidate default, U - '\u001b[0m\n",
      "                   \u001b[0m'per-user static route\\n'\u001b[0m\n",
      "                   \u001b[0m'       o - ODR, P - periodic downloaded static route\\n'\u001b[0m\n",
      "                   \u001b[0m'\\n'\u001b[0m\n",
      "                   \u001b[0m'Gateway of last resort is 192.168.122.1 to network '\u001b[0m\n",
      "                   \u001b[0m'0.0.0.0\\n'\u001b[0m\n",
      "                   \u001b[0m'\\n'\u001b[0m\n",
      "                   \u001b[0m'S*   0.0.0.0/0 [254/0] via 192.168.122.1\\n'\u001b[0m\n",
      "                   \u001b[0m'C    192.168.0.0/16 is directly connected, FastEthernet0/0'\u001b[0m,\n",
      "  \u001b[0m'show version'\u001b[0m: \u001b[0m'Cisco IOS Software, 3700 Software '\u001b[0m\n",
      "                  \u001b[0m'(C3725-ADVENTERPRISEK9-M), Version 12.4(15)T7, RELEASE '\u001b[0m\n",
      "                  \u001b[0m'SOFTWARE (fc3)\\n'\u001b[0m\n",
      "                  \u001b[0m'Technical Support: http://www.cisco.com/techsupport\\n'\u001b[0m\n",
      "                  \u001b[0m'Copyright (c) 1986-2008 by Cisco Systems, Inc.\\n'\u001b[0m\n",
      "                  \u001b[0m'Compiled Wed 13-Aug-08 21:36 by prod_rel_team\\n'\u001b[0m\n",
      "                  \u001b[0m'\\n'\u001b[0m\n",
      "                  \u001b[0m'ROM: ROMMON Emulation Microcode\\n'\u001b[0m\n",
      "                  \u001b[0m'ROM: 3700 Software (C3725-ADVENTERPRISEK9-M), Version '\u001b[0m\n",
      "                  \u001b[0m'12.4(15)T7, RELEASE SOFTWARE (fc3)\\n'\u001b[0m\n",
      "                  \u001b[0m'\\n'\u001b[0m\n",
      "                  \u001b[0m'R1 uptime is 52 minutes\\n'\u001b[0m\n",
      "                  \u001b[0m'System returned to ROM by unknown reload cause - suspect '\u001b[0m\n",
      "                  \u001b[0m'boot_data[BOOT_COUNT] 0x0, BOOT_COUNT 0, BOOTDATA 19\\n'\u001b[0m\n",
      "                  \u001b[0m'System image file is \"tftp://255.255.255.255/unknown\"\\n'\u001b[0m\n",
      "                  \u001b[0m'\\n'\u001b[0m\n",
      "                  \u001b[0m'\\n'\u001b[0m\n",
      "                  \u001b[0m'This product contains cryptographic features and is subject '\u001b[0m\n",
      "                  \u001b[0m'to United\\n'\u001b[0m\n",
      "                  \u001b[0m'States and local country laws governing import, export, '\u001b[0m\n",
      "                  \u001b[0m'transfer and\\n'\u001b[0m\n",
      "                  \u001b[0m'use. Delivery of Cisco cryptographic products does not '\u001b[0m\n",
      "                  \u001b[0m'imply\\n'\u001b[0m\n",
      "                  \u001b[0m'third-party authority to import, export, distribute or use '\u001b[0m\n",
      "                  \u001b[0m'encryption.\\n'\u001b[0m\n",
      "                  \u001b[0m'Importers, exporters, distributors and users are '\u001b[0m\n",
      "                  \u001b[0m'responsible for\\n'\u001b[0m\n",
      "                  \u001b[0m'compliance with U.S. and local country laws. By using this '\u001b[0m\n",
      "                  \u001b[0m'product you\\n'\u001b[0m\n",
      "                  \u001b[0m'agree to comply with applicable laws and regulations. If '\u001b[0m\n",
      "                  \u001b[0m'you are unable\\n'\u001b[0m\n",
      "                  \u001b[0m'to comply with U.S. and local laws, return this product '\u001b[0m\n",
      "                  \u001b[0m'immediately.\\n'\u001b[0m\n",
      "                  \u001b[0m'\\n'\u001b[0m\n",
      "                  \u001b[0m'A summary of U.S. laws governing Cisco cryptographic '\u001b[0m\n",
      "                  \u001b[0m'products may be found at:\\n'\u001b[0m\n",
      "                  \u001b[0m'http://www.cisco.com/wwl/export/crypto/tool/stqrg.html\\n'\u001b[0m\n",
      "                  \u001b[0m'\\n'\u001b[0m\n",
      "                  \u001b[0m'If you require further assistance please contact us by '\u001b[0m\n",
      "                  \u001b[0m'sending email to\\n'\u001b[0m\n",
      "                  \u001b[0m'export@cisco.com.\\n'\u001b[0m\n",
      "                  \u001b[0m'\\n'\u001b[0m\n",
      "                  \u001b[0m'Cisco 3725 (R7000) processor (revision 0.1) with '\u001b[0m\n",
      "                  \u001b[0m'124928K/6144K bytes of memory.\\n'\u001b[0m\n",
      "                  \u001b[0m'Processor board ID FTX0945W0MY\\n'\u001b[0m\n",
      "                  \u001b[0m'R7000 CPU at 240MHz, Implementation 39, Rev 2.1, 256KB L2, '\u001b[0m\n",
      "                  \u001b[0m'512KB L3 Cache\\n'\u001b[0m\n",
      "                  \u001b[0m'19 FastEthernet interfaces\\n'\u001b[0m\n",
      "                  \u001b[0m'3 Serial(sync/async) interfaces\\n'\u001b[0m\n",
      "                  \u001b[0m'DRAM configuration is 64 bits wide with parity enabled.\\n'\u001b[0m\n",
      "                  \u001b[0m'55K bytes of NVRAM.\\n'\u001b[0m\n",
      "                  \u001b[0m'\\n'\u001b[0m\n",
      "                  \u001b[0m'Configuration register is 0x2102'\u001b[0m}\u001b[0m\n",
      "\u001b[0m\u001b[1m\u001b[32m^^^^ END napalm_cli ^^^^^^^^^^^^^^^^^^^^^^^^^^^^^^^^^^^^^^^^^^^^^^^^^^^^^^^^^^^^\u001b[0m\n",
      "\u001b[0m"
     ]
    }
   ],
   "source": [
    "print_result(result[\"r1\"])"
   ]
  },
  {
   "source": [
    "Command output can also be accessed as follows:"
   ],
   "cell_type": "markdown",
   "metadata": {}
  },
  {
   "cell_type": "code",
   "execution_count": 27,
   "metadata": {},
   "outputs": [
    {
     "output_type": "stream",
     "name": "stdout",
     "text": [
      "(\u001b[0m'Cisco IOS Software, 3700 Software (C3725-ADVENTERPRISEK9-M), Version '\u001b[0m\n",
      " \u001b[0m'12.4(15)T7, RELEASE SOFTWARE (fc3)\\n'\u001b[0m\n",
      " \u001b[0m'Technical Support: http://www.cisco.com/techsupport\\n'\u001b[0m\n",
      " \u001b[0m'Copyright (c) 1986-2008 by Cisco Systems, Inc.\\n'\u001b[0m\n",
      " \u001b[0m'Compiled Wed 13-Aug-08 21:36 by prod_rel_team\\n'\u001b[0m\n",
      " \u001b[0m'\\n'\u001b[0m\n",
      " \u001b[0m'ROM: ROMMON Emulation Microcode\\n'\u001b[0m\n",
      " \u001b[0m'ROM: 3700 Software (C3725-ADVENTERPRISEK9-M), Version 12.4(15)T7, RELEASE '\u001b[0m\n",
      " \u001b[0m'SOFTWARE (fc3)\\n'\u001b[0m\n",
      " \u001b[0m'\\n'\u001b[0m\n",
      " \u001b[0m'R1 uptime is 52 minutes\\n'\u001b[0m\n",
      " \u001b[0m'System returned to ROM by unknown reload cause - suspect '\u001b[0m\n",
      " \u001b[0m'boot_data[BOOT_COUNT] 0x0, BOOT_COUNT 0, BOOTDATA 19\\n'\u001b[0m\n",
      " \u001b[0m'System image file is \"tftp://255.255.255.255/unknown\"\\n'\u001b[0m\n",
      " \u001b[0m'\\n'\u001b[0m\n",
      " \u001b[0m'\\n'\u001b[0m\n",
      " \u001b[0m'This product contains cryptographic features and is subject to United\\n'\u001b[0m\n",
      " \u001b[0m'States and local country laws governing import, export, transfer and\\n'\u001b[0m\n",
      " \u001b[0m'use. Delivery of Cisco cryptographic products does not imply\\n'\u001b[0m\n",
      " \u001b[0m'third-party authority to import, export, distribute or use encryption.\\n'\u001b[0m\n",
      " \u001b[0m'Importers, exporters, distributors and users are responsible for\\n'\u001b[0m\n",
      " \u001b[0m'compliance with U.S. and local country laws. By using this product you\\n'\u001b[0m\n",
      " \u001b[0m'agree to comply with applicable laws and regulations. If you are unable\\n'\u001b[0m\n",
      " \u001b[0m'to comply with U.S. and local laws, return this product immediately.\\n'\u001b[0m\n",
      " \u001b[0m'\\n'\u001b[0m\n",
      " \u001b[0m'A summary of U.S. laws governing Cisco cryptographic products may be found '\u001b[0m\n",
      " \u001b[0m'at:\\n'\u001b[0m\n",
      " \u001b[0m'http://www.cisco.com/wwl/export/crypto/tool/stqrg.html\\n'\u001b[0m\n",
      " \u001b[0m'\\n'\u001b[0m\n",
      " \u001b[0m'If you require further assistance please contact us by sending email to\\n'\u001b[0m\n",
      " \u001b[0m'export@cisco.com.\\n'\u001b[0m\n",
      " \u001b[0m'\\n'\u001b[0m\n",
      " \u001b[0m'Cisco 3725 (R7000) processor (revision 0.1) with 124928K/6144K bytes of '\u001b[0m\n",
      " \u001b[0m'memory.\\n'\u001b[0m\n",
      " \u001b[0m'Processor board ID FTX0945W0MY\\n'\u001b[0m\n",
      " \u001b[0m'R7000 CPU at 240MHz, Implementation 39, Rev 2.1, 256KB L2, 512KB L3 Cache\\n'\u001b[0m\n",
      " \u001b[0m'19 FastEthernet interfaces\\n'\u001b[0m\n",
      " \u001b[0m'3 Serial(sync/async) interfaces\\n'\u001b[0m\n",
      " \u001b[0m'DRAM configuration is 64 bits wide with parity enabled.\\n'\u001b[0m\n",
      " \u001b[0m'55K bytes of NVRAM.\\n'\u001b[0m\n",
      " \u001b[0m'\\n'\u001b[0m\n",
      " \u001b[0m'Configuration register is 0x2102'\u001b[0m)\u001b[0m\n",
      "\u001b[0m"
     ]
    }
   ],
   "source": [
    "pprint.pprint(result[\"r1\"][0].result[\"show version\"])"
   ]
  }
 ]
}