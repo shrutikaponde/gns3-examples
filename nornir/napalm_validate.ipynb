{
 "metadata": {
  "language_info": {
   "codemirror_mode": {
    "name": "ipython",
    "version": 3
   },
   "file_extension": ".py",
   "mimetype": "text/x-python",
   "name": "python",
   "nbconvert_exporter": "python",
   "pygments_lexer": "ipython3",
   "version": "3.6.7-final"
  },
  "orig_nbformat": 2,
  "kernelspec": {
   "name": "python36764bitnornirvenvvenv4343e64232144f2fba713108ccefc997",
   "display_name": "Python 3.6.7 64-bit ('.nornir-venv': venv)",
   "language": "python"
  }
 },
 "nbformat": 4,
 "nbformat_minor": 2,
 "cells": [
  {
   "source": [
    "# Execute Napalm's validate method\n",
    "\n",
    "napalm_validate - Call napalm’s validate method"
   ],
   "cell_type": "markdown",
   "metadata": {}
  },
  {
   "cell_type": "code",
   "execution_count": 13,
   "metadata": {},
   "outputs": [],
   "source": [
    "from nornir import InitNornir\n",
    "from nornir_napalm.plugins.tasks import napalm_validate\n",
    "from nornir_utils.plugins.functions import print_result\n",
    "\n",
    "import pprint"
   ]
  },
  {
   "cell_type": "code",
   "execution_count": 14,
   "metadata": {
    "tags": []
   },
   "outputs": [
    {
     "output_type": "stream",
     "name": "stdout",
     "text": [
      "\u001b[1m\u001b[32mvvvv r1: napalm_validate ** changed : False vvvvvvvvvvvvvvvvvvvvvvvvvvvvvvvvvvvv INFO\u001b[0m\n",
      "\u001b[0m{\u001b[0m \u001b[0m'complies'\u001b[0m: \u001b[0mFalse\u001b[0m,\n",
      "  \u001b[0m'get_facts'\u001b[0m: \u001b[0m{\u001b[0m \u001b[0m'complies'\u001b[0m: \u001b[0mFalse\u001b[0m,\n",
      "                 \u001b[0m'extra'\u001b[0m: \u001b[0m[]\u001b[0m,\n",
      "                 \u001b[0m'missing'\u001b[0m: \u001b[0m[]\u001b[0m,\n",
      "                 \u001b[0m'present'\u001b[0m: \u001b[0m{\u001b[0m \u001b[0m'os_version'\u001b[0m: \u001b[0m{\u001b[0m \u001b[0m'actual_value'\u001b[0m: \u001b[0m'3700 Software '\u001b[0m\n",
      "                                                              \u001b[0m'(C3725-ADVENTERPRISEK9-M), '\u001b[0m\n",
      "                                                              \u001b[0m'Version '\u001b[0m\n",
      "                                                              \u001b[0m'12.4(15)T7, '\u001b[0m\n",
      "                                                              \u001b[0m'RELEASE '\u001b[0m\n",
      "                                                              \u001b[0m'SOFTWARE (fc3)'\u001b[0m,\n",
      "                                              \u001b[0m'complies'\u001b[0m: \u001b[0mFalse\u001b[0m,\n",
      "                                              \u001b[0m'expected_value'\u001b[0m: \u001b[0m4.17\u001b[0m,\n",
      "                                              \u001b[0m'nested'\u001b[0m: \u001b[0mFalse\u001b[0m}\u001b[0m}\u001b[0m}\u001b[0m,\n",
      "  \u001b[0m'get_interfaces_ip'\u001b[0m: \u001b[0m{\u001b[0m \u001b[0m'complies'\u001b[0m: \u001b[0mTrue\u001b[0m,\n",
      "                         \u001b[0m'extra'\u001b[0m: \u001b[0m[]\u001b[0m,\n",
      "                         \u001b[0m'missing'\u001b[0m: \u001b[0m[]\u001b[0m,\n",
      "                         \u001b[0m'present'\u001b[0m: \u001b[0m{\u001b[0m \u001b[0m'FastEthernet0/0'\u001b[0m: \u001b[0m{\u001b[0m \u001b[0m'complies'\u001b[0m: \u001b[0mTrue\u001b[0m,\n",
      "                                                           \u001b[0m'nested'\u001b[0m: \u001b[0mTrue\u001b[0m}\u001b[0m}\u001b[0m}\u001b[0m,\n",
      "  \u001b[0m'skipped'\u001b[0m: \u001b[0m[]\u001b[0m}\u001b[0m\n",
      "\u001b[0m\u001b[1m\u001b[32m^^^^ END napalm_validate ^^^^^^^^^^^^^^^^^^^^^^^^^^^^^^^^^^^^^^^^^^^^^^^^^^^^^^^\u001b[0m\n",
      "\u001b[0m"
     ]
    }
   ],
   "source": [
    "nr = InitNornir(config_file=\"config.yaml\")\n",
    "result = nr.run(task=napalm_validate, src='validation_files/validate_ios_R1.yaml')\n",
    "print_result(result[\"r1\"])"
   ]
  }
 ]
}